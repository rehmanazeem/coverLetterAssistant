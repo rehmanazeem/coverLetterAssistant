{
 "cells": [
  {
   "cell_type": "code",
   "execution_count": 1,
   "metadata": {},
   "outputs": [],
   "source": [
    "import os"
   ]
  },
  {
   "cell_type": "code",
   "execution_count": 2,
   "metadata": {},
   "outputs": [
    {
     "name": "stdout",
     "output_type": "stream",
     "text": [
      "We are looking for a Lead Data Scientist to lead a technical team and help us gain useful insight out of raw data. Lead Data Scientist responsibilities include managing the data science team, planning projects and building analytics models. You should have a strong problem-solving ability and a knack for statistical analysis. If you’re also able to align our data products with our business goals, we’d like to meet you. Your ultimate goal will be to help improve our products and business decisions by making the most out of our data.\n",
      "\n",
      "Responsibilities:\n",
      "Manage a team of data scientists, machine learning engineers and big data specialists\n",
      "Lead data mining and collection procedures\n",
      "Ensure data quality and integrity\n",
      "Interpret and analyze data problems\n",
      "Conceive, plan and prioritize data projects\n",
      "Build analytic systems and predictive models\n",
      "Test performance of data-driven products\n",
      "Visualize data and create reports\n",
      "Experiment with new models and techniques\n",
      "Align data projects with organizational goals\n",
      "\n",
      "Requirements:\n",
      "Proven experience as a Data Scientist or similar role\n",
      "Solid understanding of machine learning\n",
      "Knowledge of data management and visualization techniques\n",
      "A knack for statistical analysis and predictive modeling\n",
      "Good knowledge of R, Python and MATLAB\n",
      "Experience with SQL and NoSQL databases\n",
      "Strong organizational and leadership skills\n",
      "Excellent communication skills\n",
      "A business mindset\n",
      "Degree in Computer Science, Data Science, Mathematics or similar field\n"
     ]
    }
   ],
   "source": [
    "with open('./files/jobDescription.txt', 'r') as f:\n",
    "    data = f.read()\n",
    "\n",
    "print(data)"
   ]
  },
  {
   "cell_type": "code",
   "execution_count": 8,
   "metadata": {},
   "outputs": [],
   "source": [
    "systemPrompt = \"\"\"\n",
    "Hello world! \n",
    "{NAME}\n",
    "is a great day to be alive!\n",
    "\"\"\""
   ]
  },
  {
   "cell_type": "code",
   "execution_count": 9,
   "metadata": {},
   "outputs": [
    {
     "name": "stdout",
     "output_type": "stream",
     "text": [
      "\n",
      "Hello world! \n",
      "Today\n",
      "is a great day to be alive!\n",
      "\n"
     ]
    }
   ],
   "source": [
    "print(systemPrompt.format(NAME=\"Today\"), sep='\\n')"
   ]
  },
  {
   "cell_type": "code",
   "execution_count": null,
   "metadata": {},
   "outputs": [],
   "source": []
  }
 ],
 "metadata": {
  "kernelspec": {
   "display_name": "genAI",
   "language": "python",
   "name": "python3"
  },
  "language_info": {
   "codemirror_mode": {
    "name": "ipython",
    "version": 3
   },
   "file_extension": ".py",
   "mimetype": "text/x-python",
   "name": "python",
   "nbconvert_exporter": "python",
   "pygments_lexer": "ipython3",
   "version": "3.12.6"
  }
 },
 "nbformat": 4,
 "nbformat_minor": 2
}
